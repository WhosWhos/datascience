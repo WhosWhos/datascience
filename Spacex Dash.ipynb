{
 "cells": [
  {
   "cell_type": "code",
   "execution_count": 1,
   "id": "8e55c5b2",
   "metadata": {},
   "outputs": [],
   "source": [
    "import pandas as pd\n",
    "import dash\n",
    "import dash_html_components as html\n",
    "import dash_core_components as dcc\n",
    "from dash.dependencies import Input, Output, State\n",
    "import plotly.graph_objects as go\n",
    "import plotly.express as px\n",
    "from dash import no_update"
   ]
  },
  {
   "cell_type": "code",
   "execution_count": 2,
   "id": "45f15487",
   "metadata": {},
   "outputs": [],
   "source": [
    "SPACEX = pd.read_excel(\"spacex_launch_dash.xlsx\")\n",
    "max_payload = SPACEX['Payload Mass (kg)'].max()\n",
    "min_payload = SPACEX['Payload Mass (kg)'].min()"
   ]
  },
  {
   "cell_type": "code",
   "execution_count": 3,
   "id": "c4d6e6ee",
   "metadata": {},
   "outputs": [],
   "source": [
    "# Create a dash application\n",
    "app = dash.Dash(__name__)"
   ]
  },
  {
   "cell_type": "code",
   "execution_count": 4,
   "id": "5336e913",
   "metadata": {},
   "outputs": [],
   "source": [
    "# Create an app layout\n",
    "launch_sites = []\n",
    "launch_sites.append({'label': 'All Sites', 'value': 'All Sites'})\n",
    "for item in SPACEX[\"Launch Site\"].value_counts().index:\n",
    "    launch_sites.append({'label': item, 'value': item})\n",
    "app.layout = html.Div(children=[html.H1('SpaceX Launch Records Dashboard',\n",
    "                                        style={'textAlign': 'center', 'color': '#503D36',\n",
    "                                               'font-size': 40}),\n",
    "                                # TASK 1: Add a dropdown list to enable Launch Site selection\n",
    "                                # The default select value is for ALL sites\n",
    "                                dcc.Dropdown(id='site-dropdown', options=launch_sites, value='All Sites',\n",
    "                                             placeholder=\"Select a Launch Site here\", searchable=True),\n",
    "                                html.Br(),\n",
    "\n",
    "                                # TASK 2: Add a pie chart to show the total successful launches count for all sites\n",
    "                                # If a specific launch site was selected, show the Success vs. Failed counts for the site\n",
    "                                html.Div(dcc.Graph(id='success-pie-chart')),\n",
    "                                html.Br(),\n",
    "\n",
    "                                html.P(\"Payload range (Kg):\"),\n",
    "                                # TASK 3: Add a slider to select payload range\n",
    "                                dcc.RangeSlider(id='payload-slider', min=0, max=10000, step=1000, value=[min_payload, max_payload], marks={\n",
    "                                                2500: {'label': '2500 (Kg)'}, 5000: {'label': '5000 (Kg)'}, 7500: {'label': '7500 (Kg)'}}),\n",
    "\n",
    "                                # TASK 4: Add a scatter chart to show the correlation between payload and launch success\n",
    "                                html.Div(\n",
    "                                    dcc.Graph(id='success-payload-scatter-chart')),\n",
    "                                ])"
   ]
  },
  {
   "cell_type": "code",
   "execution_count": null,
   "id": "666883e5",
   "metadata": {},
   "outputs": [
    {
     "name": "stdout",
     "output_type": "stream",
     "text": [
      "Dash is running on http://127.0.0.1:8050/\n",
      "\n",
      " * Serving Flask app \"__main__\" (lazy loading)\n",
      " * Environment: production\n",
      "   WARNING: This is a development server. Do not use it in a production deployment.\n",
      "   Use a production WSGI server instead.\n",
      " * Debug mode: off\n"
     ]
    },
    {
     "name": "stderr",
     "output_type": "stream",
     "text": [
      " * Running on http://127.0.0.1:8050/ (Press CTRL+C to quit)\n",
      "127.0.0.1 - - [23/Jun/2022 10:29:50] \"\u001b[37mGET / HTTP/1.1\u001b[0m\" 200 -\n",
      "127.0.0.1 - - [23/Jun/2022 10:29:50] \"\u001b[37mGET /_dash-layout HTTP/1.1\u001b[0m\" 200 -\n",
      "127.0.0.1 - - [23/Jun/2022 10:29:50] \"\u001b[37mGET /_dash-dependencies HTTP/1.1\u001b[0m\" 200 -\n",
      "127.0.0.1 - - [23/Jun/2022 10:29:50] \"\u001b[37mGET /_dash-component-suites/dash_core_components/async-graph.js HTTP/1.1\u001b[0m\" 200 -\n",
      "127.0.0.1 - - [23/Jun/2022 10:29:50] \"\u001b[37mGET /_dash-component-suites/dash_core_components/async-dropdown.js HTTP/1.1\u001b[0m\" 200 -\n",
      "127.0.0.1 - - [23/Jun/2022 10:29:50] \"\u001b[37mGET /_dash-component-suites/dash_core_components/async-slider.js HTTP/1.1\u001b[0m\" 200 -\n"
     ]
    },
    {
     "name": "stdout",
     "output_type": "stream",
     "text": [
      "All Sites\n",
      "[0, 9600]\n"
     ]
    },
    {
     "name": "stderr",
     "output_type": "stream",
     "text": [
      "127.0.0.1 - - [23/Jun/2022 10:29:51] \"\u001b[37mGET /_dash-component-suites/dash_core_components/async-plotlyjs.js HTTP/1.1\u001b[0m\" 200 -\n",
      "127.0.0.1 - - [23/Jun/2022 10:29:51] \"\u001b[37mPOST /_dash-update-component HTTP/1.1\u001b[0m\" 200 -\n",
      "127.0.0.1 - - [23/Jun/2022 10:29:51] \"\u001b[37mPOST /_dash-update-component HTTP/1.1\u001b[0m\" 200 -\n"
     ]
    }
   ],
   "source": [
    "# Add a callback function for `site-dropdown` as input, `success-pie-chart` as output\n",
    "@app.callback(Output(component_id='success-pie-chart', component_property='figure'),\n",
    "              Input(component_id='site-dropdown', component_property='value')\n",
    "              )\n",
    "# Add computation to callback function and return graph\n",
    "def select(inputt):\n",
    "    if inputt == 'All Sites':\n",
    "        new_df = SPACEX.groupby(['Launch Site'])[\"class\"].sum().to_frame()\n",
    "        new_df = new_df.reset_index()\n",
    "        fig = px.pie(new_df, values='class', names='Launch Site',\n",
    "                     title='Total Success Launches by Site')\n",
    "    else:\n",
    "        new_df = SPACEX[SPACEX[\"Launch Site\"] ==\n",
    "                           inputt][\"class\"].value_counts().to_frame()\n",
    "        new_df[\"name\"] = [\"Failure\", \"Success\"]\n",
    "        fig = px.pie(new_df, values='class', names='name',\n",
    "                     title='Total Success Launches for ' + inputt)\n",
    "    return fig\n",
    "\n",
    "# TASK 4:\n",
    "# Add a callback function for `site-dropdown` and `payload-slider` as inputs, `success-payload-scatter-chart` as output\n",
    "\n",
    "\n",
    "@app.callback(Output(component_id='success-payload-scatter-chart', component_property='figure'),\n",
    "              Input(component_id='site-dropdown', component_property='value'), Input(\n",
    "                  component_id='payload-slider', component_property='value')\n",
    "              )\n",
    "def scatter(input1, input2):\n",
    "    print(input1)\n",
    "    print(input2)\n",
    "    if input1 == 'All Sites':\n",
    "        new_df = SPACEX\n",
    "        new_df2 = new_df[new_df[\"Payload Mass (kg)\"] >= input2[0]]\n",
    "        new_df3 = new_df2[new_df[\"Payload Mass (kg)\"] <= input2[1]]\n",
    "        fig2 = px.scatter(new_df3, y=\"class\", x=\"Payload Mass (kg)\",\n",
    "                          color=\"Booster Version Category\")\n",
    "    else:\n",
    "        new_df = SPACEX[SPACEX[\"Launch Site\"] == input1]\n",
    "        new_df2 = new_df[new_df[\"Payload Mass (kg)\"] >= input2[0]]\n",
    "        new_df3 = new_df2[new_df[\"Payload Mass (kg)\"] <= input2[1]]\n",
    "        fig2 = px.scatter(new_df3, y=\"class\", x=\"Payload Mass (kg)\",\n",
    "                          color=\"Booster Version Category\")\n",
    "    return fig2\n",
    "\n",
    "\n",
    "# Run the app\n",
    "if __name__ == '__main__':\n",
    "    app.run_server()"
   ]
  },
  {
   "cell_type": "code",
   "execution_count": null,
   "id": "058ae40b",
   "metadata": {},
   "outputs": [],
   "source": []
  },
  {
   "cell_type": "code",
   "execution_count": null,
   "id": "b29e2d14",
   "metadata": {},
   "outputs": [],
   "source": []
  }
 ],
 "metadata": {
  "kernelspec": {
   "display_name": "Python 3",
   "language": "python",
   "name": "python3"
  },
  "language_info": {
   "codemirror_mode": {
    "name": "ipython",
    "version": 3
   },
   "file_extension": ".py",
   "mimetype": "text/x-python",
   "name": "python",
   "nbconvert_exporter": "python",
   "pygments_lexer": "ipython3",
   "version": "3.8.8"
  },
  "varInspector": {
   "cols": {
    "lenName": 16,
    "lenType": 16,
    "lenVar": 40
   },
   "kernels_config": {
    "python": {
     "delete_cmd_postfix": "",
     "delete_cmd_prefix": "del ",
     "library": "var_list.py",
     "varRefreshCmd": "print(var_dic_list())"
    },
    "r": {
     "delete_cmd_postfix": ") ",
     "delete_cmd_prefix": "rm(",
     "library": "var_list.r",
     "varRefreshCmd": "cat(var_dic_list()) "
    }
   },
   "types_to_exclude": [
    "module",
    "function",
    "builtin_function_or_method",
    "instance",
    "_Feature"
   ],
   "window_display": false
  }
 },
 "nbformat": 4,
 "nbformat_minor": 5
}
